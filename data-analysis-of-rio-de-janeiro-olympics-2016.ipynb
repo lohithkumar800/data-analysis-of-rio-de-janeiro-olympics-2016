{
 "cells": [
  {
   "cell_type": "markdown",
   "id": "f19bcb90",
   "metadata": {
    "papermill": {
     "duration": 0.034516,
     "end_time": "2021-12-26T16:17:25.238341",
     "exception": false,
     "start_time": "2021-12-26T16:17:25.203825",
     "status": "completed"
    },
    "tags": []
   },
   "source": [
    "### Data analysis of Rio de Janeiro olympics 2016\n",
    "In this project, I will analyze the data of the Rio de Janeiro Olympics using seaborn , matplotlib and plotly "
   ]
  },
  {
   "cell_type": "code",
   "execution_count": 1,
   "id": "72efb3be",
   "metadata": {
    "execution": {
     "iopub.execute_input": "2021-12-26T16:17:25.311968Z",
     "iopub.status.busy": "2021-12-26T16:17:25.310766Z",
     "iopub.status.idle": "2021-12-26T16:17:27.516495Z",
     "shell.execute_reply": "2021-12-26T16:17:27.515656Z",
     "shell.execute_reply.started": "2021-12-26T15:13:40.443992Z"
    },
    "papermill": {
     "duration": 2.243518,
     "end_time": "2021-12-26T16:17:27.516674",
     "exception": false,
     "start_time": "2021-12-26T16:17:25.273156",
     "status": "completed"
    },
    "tags": []
   },
   "outputs": [
    {
     "ename": "ModuleNotFoundError",
     "evalue": "No module named 'plotly'",
     "output_type": "error",
     "traceback": [
      "\u001b[1;31m---------------------------------------------------------------------------\u001b[0m",
      "\u001b[1;31mModuleNotFoundError\u001b[0m                       Traceback (most recent call last)",
      "Cell \u001b[1;32mIn[1], line 3\u001b[0m\n\u001b[0;32m      1\u001b[0m \u001b[38;5;28;01mimport\u001b[39;00m \u001b[38;5;21;01mpandas\u001b[39;00m \u001b[38;5;28;01mas\u001b[39;00m \u001b[38;5;21;01mpd\u001b[39;00m \u001b[38;5;66;03m# for reading data\u001b[39;00m\n\u001b[0;32m      2\u001b[0m \u001b[38;5;28;01mimport\u001b[39;00m \u001b[38;5;21;01mseaborn\u001b[39;00m \u001b[38;5;28;01mas\u001b[39;00m \u001b[38;5;21;01msns\u001b[39;00m \u001b[38;5;66;03m# for plotting\u001b[39;00m\n\u001b[1;32m----> 3\u001b[0m \u001b[38;5;28;01mimport\u001b[39;00m \u001b[38;5;21;01mplotly\u001b[39;00m\u001b[38;5;21;01m.\u001b[39;00m\u001b[38;5;21;01mexpress\u001b[39;00m \u001b[38;5;28;01mas\u001b[39;00m \u001b[38;5;21;01mpx\u001b[39;00m \u001b[38;5;66;03m# for plotting\u001b[39;00m\n\u001b[0;32m      4\u001b[0m \u001b[38;5;28;01mimport\u001b[39;00m \u001b[38;5;21;01mmatplotlib\u001b[39;00m\u001b[38;5;21;01m.\u001b[39;00m\u001b[38;5;21;01mpyplot\u001b[39;00m \u001b[38;5;28;01mas\u001b[39;00m \u001b[38;5;21;01mplt\u001b[39;00m \u001b[38;5;66;03m# for plotting\u001b[39;00m\n",
      "\u001b[1;31mModuleNotFoundError\u001b[0m: No module named 'plotly'"
     ]
    }
   ],
   "source": [
    "import pandas as pd # for reading data\n",
    "import seaborn as sns # for plotting\n",
    "import plotly.express as px # for plotting\n",
    "import matplotlib.pyplot as plt # for plotting"
   ]
  },
  {
   "cell_type": "markdown",
   "id": "09e9f27a",
   "metadata": {
    "papermill": {
     "duration": 0.035003,
     "end_time": "2021-12-26T16:17:27.587922",
     "exception": false,
     "start_time": "2021-12-26T16:17:27.552919",
     "status": "completed"
    },
    "tags": []
   },
   "source": [
    "First I will read the data using pands"
   ]
  },
  {
   "cell_type": "code",
   "execution_count": null,
   "id": "ca615362",
   "metadata": {
    "execution": {
     "iopub.execute_input": "2021-12-26T16:17:27.662719Z",
     "iopub.status.busy": "2021-12-26T16:17:27.661946Z",
     "iopub.status.idle": "2021-12-26T16:17:28.864544Z",
     "shell.execute_reply": "2021-12-26T16:17:28.865079Z",
     "shell.execute_reply.started": "2021-12-26T14:53:39.072857Z"
    },
    "papermill": {
     "duration": 1.241459,
     "end_time": "2021-12-26T16:17:28.865263",
     "exception": false,
     "start_time": "2021-12-26T16:17:27.623804",
     "status": "completed"
    },
    "tags": []
   },
   "outputs": [],
   "source": [
    "df_olympic = pd.read_csv('../input/120-years-of-olympic-history-athletes-and-results/athlete_events.csv')"
   ]
  },
  {
   "cell_type": "markdown",
   "id": "d6ecf6e5",
   "metadata": {
    "papermill": {
     "duration": 0.033794,
     "end_time": "2021-12-26T16:17:28.932632",
     "exception": false,
     "start_time": "2021-12-26T16:17:28.898838",
     "status": "completed"
    },
    "tags": []
   },
   "source": [
    "Then I will filter the data to include 2016 only and some sports اhall"
   ]
  },
  {
   "cell_type": "code",
   "execution_count": null,
   "id": "5562bdc8",
   "metadata": {
    "execution": {
     "iopub.execute_input": "2021-12-26T16:17:29.010554Z",
     "iopub.status.busy": "2021-12-26T16:17:29.009874Z",
     "iopub.status.idle": "2021-12-26T16:17:29.038392Z",
     "shell.execute_reply": "2021-12-26T16:17:29.038966Z",
     "shell.execute_reply.started": "2021-12-26T14:53:39.869986Z"
    },
    "papermill": {
     "duration": 0.071544,
     "end_time": "2021-12-26T16:17:29.039142",
     "exception": false,
     "start_time": "2021-12-26T16:17:28.967598",
     "status": "completed"
    },
    "tags": []
   },
   "outputs": [],
   "source": [
    "sports_hall = ['Volleyball' , 'Basketball']\n",
    "basket_volley = df_olympic[(df_olympic['Year'] == 2016) & df_olympic['Sport'].isin(sports_hall)]"
   ]
  },
  {
   "cell_type": "markdown",
   "id": "3d6b4137",
   "metadata": {
    "papermill": {
     "duration": 0.03301,
     "end_time": "2021-12-26T16:17:29.105619",
     "exception": false,
     "start_time": "2021-12-26T16:17:29.072609",
     "status": "completed"
    },
    "tags": []
   },
   "source": [
    "It is important that the athlete's body is perfect, that is, there is consistency between height and weight \n",
    "\n",
    "I want to see the relationship between the heights and weights of players in team sports\n",
    "\n",
    "So , I will use relplot (like to scatter plot) from seaborn to display the weights and heights of players in team ball sports\n",
    "\n"
   ]
  },
  {
   "cell_type": "markdown",
   "id": "763d9265",
   "metadata": {
    "papermill": {
     "duration": 0.033597,
     "end_time": "2021-12-26T16:17:29.173412",
     "exception": false,
     "start_time": "2021-12-26T16:17:29.139815",
     "status": "completed"
    },
    "tags": []
   },
   "source": [
    "The following figure shows that there is a strong correlation between height and weight in these sports (there is a good consistency between height and weight)"
   ]
  },
  {
   "cell_type": "code",
   "execution_count": null,
   "id": "16e96168",
   "metadata": {
    "execution": {
     "iopub.execute_input": "2021-12-26T16:17:29.243413Z",
     "iopub.status.busy": "2021-12-26T16:17:29.242729Z",
     "iopub.status.idle": "2021-12-26T16:17:29.820368Z",
     "shell.execute_reply": "2021-12-26T16:17:29.819799Z",
     "shell.execute_reply.started": "2021-12-26T14:53:39.909434Z"
    },
    "papermill": {
     "duration": 0.613511,
     "end_time": "2021-12-26T16:17:29.820524",
     "exception": false,
     "start_time": "2021-12-26T16:17:29.207013",
     "status": "completed"
    },
    "tags": []
   },
   "outputs": [],
   "source": [
    "sns.relplot(x=\"Height\", y=\"Weight\", hue=\"Sport\" , data=basket_volley , s = 80)"
   ]
  },
  {
   "cell_type": "markdown",
   "id": "ec2ce972",
   "metadata": {
    "papermill": {
     "duration": 0.03545,
     "end_time": "2021-12-26T16:17:29.892129",
     "exception": false,
     "start_time": "2021-12-26T16:17:29.856679",
     "status": "completed"
    },
    "tags": []
   },
   "source": [
    "There is too much data in the previous graph, which led to data accumulation in this graph\n",
    "\n",
    "I will use an alternative to scatter plot to solve this problem so that if there is a lot of data in a certain range it is represented by a darker color and if there is less data in a certain range it is represented by a lighter color\n",
    "The alternative is hexbin plot from seaborn which use hexagons to represent clusters of data points\n",
    "\n",
    "1- The darker bins indicate larger number of points on x and y \n",
    "\n",
    "2- The lighter bins indicate fewer points\n",
    "\n",
    "the histogram on the top and right axes depict the variance in the features"
   ]
  },
  {
   "cell_type": "code",
   "execution_count": null,
   "id": "09fbd385",
   "metadata": {
    "execution": {
     "iopub.execute_input": "2021-12-26T16:17:29.970252Z",
     "iopub.status.busy": "2021-12-26T16:17:29.969574Z",
     "iopub.status.idle": "2021-12-26T16:17:30.694705Z",
     "shell.execute_reply": "2021-12-26T16:17:30.694044Z",
     "shell.execute_reply.started": "2021-12-26T14:53:40.512036Z"
    },
    "papermill": {
     "duration": 0.766966,
     "end_time": "2021-12-26T16:17:30.694847",
     "exception": false,
     "start_time": "2021-12-26T16:17:29.927881",
     "status": "completed"
    },
    "tags": []
   },
   "outputs": [],
   "source": [
    "sns.jointplot(basket_volley.Height, basket_volley.Weight, kind=\"hex\", color=\"#4CB391\" )"
   ]
  },
  {
   "cell_type": "markdown",
   "id": "cccdd836",
   "metadata": {
    "papermill": {
     "duration": 0.037249,
     "end_time": "2021-12-26T16:17:30.769960",
     "exception": false,
     "start_time": "2021-12-26T16:17:30.732711",
     "status": "completed"
    },
    "tags": []
   },
   "source": [
    "I want to use the box plot to see some statistical characteristics (such as the maximum value, minimum value and average) of the heights of the players of the participating teams in basketball\n",
    "\n",
    "So , I filter my data to include only basketball "
   ]
  },
  {
   "cell_type": "code",
   "execution_count": null,
   "id": "bfe77b1f",
   "metadata": {
    "execution": {
     "iopub.execute_input": "2021-12-26T16:17:30.855490Z",
     "iopub.status.busy": "2021-12-26T16:17:30.854824Z",
     "iopub.status.idle": "2021-12-26T16:17:30.875778Z",
     "shell.execute_reply": "2021-12-26T16:17:30.875195Z",
     "shell.execute_reply.started": "2021-12-26T14:53:41.268702Z"
    },
    "papermill": {
     "duration": 0.067781,
     "end_time": "2021-12-26T16:17:30.875914",
     "exception": false,
     "start_time": "2021-12-26T16:17:30.808133",
     "status": "completed"
    },
    "tags": []
   },
   "outputs": [],
   "source": [
    "basketball = basket_volley.query(\"Sport == 'Basketball'\")\n",
    "basketball.head()"
   ]
  },
  {
   "cell_type": "markdown",
   "id": "4f7254b7",
   "metadata": {
    "papermill": {
     "duration": 0.037549,
     "end_time": "2021-12-26T16:17:30.951554",
     "exception": false,
     "start_time": "2021-12-26T16:17:30.914005",
     "status": "completed"
    },
    "tags": []
   },
   "source": [
    "### Can we determine the positions of the players based on the height using this boxplot ?\n",
    "\n",
    "Yes, we can.\n",
    "\n",
    "You can see in this plot that the shortest player is the Japanese national team player about 163 centimeters\n",
    "The position of this player is the team's Point Guard (or playmaker) because he is the shortest player\n",
    "\n",
    "Also, the tallest player is the Chinese national team player, about 218 centimeters\n",
    "The position of this player is mostly center player\n"
   ]
  },
  {
   "cell_type": "code",
   "execution_count": null,
   "id": "ef9fd004",
   "metadata": {
    "execution": {
     "iopub.execute_input": "2021-12-26T16:17:31.040624Z",
     "iopub.status.busy": "2021-12-26T16:17:31.039970Z",
     "iopub.status.idle": "2021-12-26T16:17:31.516989Z",
     "shell.execute_reply": "2021-12-26T16:17:31.516209Z",
     "shell.execute_reply.started": "2021-12-26T14:53:41.312461Z"
    },
    "papermill": {
     "duration": 0.526339,
     "end_time": "2021-12-26T16:17:31.517140",
     "exception": false,
     "start_time": "2021-12-26T16:17:30.990801",
     "status": "completed"
    },
    "tags": []
   },
   "outputs": [],
   "source": [
    "ax = sns.boxplot(x='Team', y='Height', data=basketball)\n",
    "ax.set_xticklabels(ax.get_xticklabels(),rotation=90)"
   ]
  },
  {
   "cell_type": "markdown",
   "id": "ea5119bf",
   "metadata": {
    "papermill": {
     "duration": 0.039082,
     "end_time": "2021-12-26T16:17:31.597509",
     "exception": false,
     "start_time": "2021-12-26T16:17:31.558427",
     "status": "completed"
    },
    "tags": []
   },
   "source": [
    "I want to do the same thing with volleyball"
   ]
  },
  {
   "cell_type": "code",
   "execution_count": null,
   "id": "f67e6839",
   "metadata": {
    "execution": {
     "iopub.execute_input": "2021-12-26T16:17:31.680536Z",
     "iopub.status.busy": "2021-12-26T16:17:31.679847Z",
     "iopub.status.idle": "2021-12-26T16:17:31.701113Z",
     "shell.execute_reply": "2021-12-26T16:17:31.701711Z",
     "shell.execute_reply.started": "2021-12-26T14:53:41.8201Z"
    },
    "papermill": {
     "duration": 0.064164,
     "end_time": "2021-12-26T16:17:31.701883",
     "exception": false,
     "start_time": "2021-12-26T16:17:31.637719",
     "status": "completed"
    },
    "tags": []
   },
   "outputs": [],
   "source": [
    "volleyball = basket_volley.query(\"Sport == 'Volleyball'\")\n",
    "volleyball.head()"
   ]
  },
  {
   "cell_type": "markdown",
   "id": "9e1f768c",
   "metadata": {
    "papermill": {
     "duration": 0.04059,
     "end_time": "2021-12-26T16:17:31.783427",
     "exception": false,
     "start_time": "2021-12-26T16:17:31.742837",
     "status": "completed"
    },
    "tags": []
   },
   "source": [
    "We will determine the positions of some players in volleyball sport using the boxplot , as we did in basketball sport\n",
    "\n",
    "The height of one of the Argentine players is about 164 centimeters, and he is the shortest player in the national team. This player's position is libero(Middle Back) , usually wearing an opposite colored jersey\n",
    "\n",
    "the tallest player is the Egyptian national team player, about 212 centimeters\n",
    "The position of this player is middle blocker(sometimes known as the middle hitter) The main role for this player is being the first line of defense against the opposing team’s hits\n"
   ]
  },
  {
   "cell_type": "code",
   "execution_count": null,
   "id": "76888a68",
   "metadata": {
    "execution": {
     "iopub.execute_input": "2021-12-26T16:17:31.867474Z",
     "iopub.status.busy": "2021-12-26T16:17:31.866774Z",
     "iopub.status.idle": "2021-12-26T16:17:32.376639Z",
     "shell.execute_reply": "2021-12-26T16:17:32.377187Z",
     "shell.execute_reply.started": "2021-12-26T14:53:41.846857Z"
    },
    "papermill": {
     "duration": 0.553966,
     "end_time": "2021-12-26T16:17:32.377375",
     "exception": false,
     "start_time": "2021-12-26T16:17:31.823409",
     "status": "completed"
    },
    "tags": []
   },
   "outputs": [],
   "source": [
    "ax = sns.boxplot(x='Team', y='Height', data=volleyball)\n",
    "ax.set_xticklabels(ax.get_xticklabels(),rotation=90)"
   ]
  },
  {
   "cell_type": "markdown",
   "id": "4de0c518",
   "metadata": {
    "papermill": {
     "duration": 0.040803,
     "end_time": "2021-12-26T16:17:32.459628",
     "exception": false,
     "start_time": "2021-12-26T16:17:32.418825",
     "status": "completed"
    },
    "tags": []
   },
   "source": [
    "Now I will filter the data on the teams that only got medals in the 2016 Olympics"
   ]
  },
  {
   "cell_type": "code",
   "execution_count": null,
   "id": "1a7f397a",
   "metadata": {
    "execution": {
     "iopub.execute_input": "2021-12-26T16:17:32.545471Z",
     "iopub.status.busy": "2021-12-26T16:17:32.544837Z",
     "iopub.status.idle": "2021-12-26T16:17:32.574107Z",
     "shell.execute_reply": "2021-12-26T16:17:32.573613Z",
     "shell.execute_reply.started": "2021-12-26T14:53:42.381409Z"
    },
    "papermill": {
     "duration": 0.073173,
     "end_time": "2021-12-26T16:17:32.574256",
     "exception": false,
     "start_time": "2021-12-26T16:17:32.501083",
     "status": "completed"
    },
    "tags": []
   },
   "outputs": [],
   "source": [
    "Medals = ['Gold', 'Bronze', 'Silver']\n",
    "winners = df_olympic[(df_olympic['Year'] == 2016) & df_olympic['Medal'].isin(Medals)]\n",
    "winners.head()"
   ]
  },
  {
   "cell_type": "markdown",
   "id": "443aba7d",
   "metadata": {
    "papermill": {
     "duration": 0.041729,
     "end_time": "2021-12-26T16:17:32.658158",
     "exception": false,
     "start_time": "2021-12-26T16:17:32.616429",
     "status": "completed"
    },
    "tags": []
   },
   "source": [
    "### Analyze by describing data"
   ]
  },
  {
   "cell_type": "code",
   "execution_count": null,
   "id": "5c5aeb04",
   "metadata": {
    "execution": {
     "iopub.execute_input": "2021-12-26T16:17:32.745706Z",
     "iopub.status.busy": "2021-12-26T16:17:32.745014Z",
     "iopub.status.idle": "2021-12-26T16:17:32.769668Z",
     "shell.execute_reply": "2021-12-26T16:17:32.770236Z",
     "shell.execute_reply.started": "2021-12-26T14:53:42.432711Z"
    },
    "papermill": {
     "duration": 0.070401,
     "end_time": "2021-12-26T16:17:32.770421",
     "exception": false,
     "start_time": "2021-12-26T16:17:32.700020",
     "status": "completed"
    },
    "tags": []
   },
   "outputs": [],
   "source": [
    "winners.describe()"
   ]
  },
  {
   "cell_type": "markdown",
   "id": "f7553b4b",
   "metadata": {
    "papermill": {
     "duration": 0.04198,
     "end_time": "2021-12-26T16:17:32.854768",
     "exception": false,
     "start_time": "2021-12-26T16:17:32.812788",
     "status": "completed"
    },
    "tags": []
   },
   "source": [
    "1- Average age of players is 26.32\n",
    "\n",
    "2- Age of oldest player is 58 years\n",
    "\n",
    "3- Age of the youngest player is 15 years\n",
    "\n",
    "4- Average height of players around 178.37\n",
    "\n",
    "5- tallest player around 215 cm \n",
    "\n",
    "6- shortest player around 140 cm\n",
    "\n",
    "7- Average weight of players around 73.96kg"
   ]
  },
  {
   "cell_type": "code",
   "execution_count": null,
   "id": "94624297",
   "metadata": {
    "execution": {
     "iopub.execute_input": "2021-12-26T16:17:32.942305Z",
     "iopub.status.busy": "2021-12-26T16:17:32.941629Z",
     "iopub.status.idle": "2021-12-26T16:17:32.975754Z",
     "shell.execute_reply": "2021-12-26T16:17:32.976361Z",
     "shell.execute_reply.started": "2021-12-26T14:53:42.462801Z"
    },
    "papermill": {
     "duration": 0.079619,
     "end_time": "2021-12-26T16:17:32.976531",
     "exception": false,
     "start_time": "2021-12-26T16:17:32.896912",
     "status": "completed"
    },
    "tags": []
   },
   "outputs": [],
   "source": [
    "winners.describe(include=object)"
   ]
  },
  {
   "cell_type": "markdown",
   "id": "f1b2f024",
   "metadata": {
    "papermill": {
     "duration": 0.042482,
     "end_time": "2021-12-26T16:17:33.062370",
     "exception": false,
     "start_time": "2021-12-26T16:17:33.019888",
     "status": "completed"
    },
    "tags": []
   },
   "source": [
    "1- This table shows that the number of teams participating in the Olympics is 98\n",
    "\n",
    "2- Number of sports 34\n",
    "\n",
    "3- The most frequently mentioned name in the Olympics is Michael Fred Phelps\n",
    "\n",
    "4- The most awarded medal in the Olympics is the bronze with 703 medals"
   ]
  },
  {
   "cell_type": "markdown",
   "id": "084bc653",
   "metadata": {
    "papermill": {
     "duration": 0.042709,
     "end_time": "2021-12-26T16:17:33.148511",
     "exception": false,
     "start_time": "2021-12-26T16:17:33.105802",
     "status": "completed"
    },
    "tags": []
   },
   "source": [
    "In this code, I used a pie chart to plot a percentage that expresses the proportion of Male and Female who won the Rio Olympics"
   ]
  },
  {
   "cell_type": "code",
   "execution_count": null,
   "id": "8a65cc53",
   "metadata": {
    "execution": {
     "iopub.execute_input": "2021-12-26T16:17:33.237775Z",
     "iopub.status.busy": "2021-12-26T16:17:33.237098Z",
     "iopub.status.idle": "2021-12-26T16:17:33.340346Z",
     "shell.execute_reply": "2021-12-26T16:17:33.339776Z",
     "shell.execute_reply.started": "2021-12-26T14:53:42.502712Z"
    },
    "papermill": {
     "duration": 0.14887,
     "end_time": "2021-12-26T16:17:33.340492",
     "exception": false,
     "start_time": "2021-12-26T16:17:33.191622",
     "status": "completed"
    },
    "tags": []
   },
   "outputs": [],
   "source": [
    "mycolors = [\"#FF865E\", \"#FEE440\"]\n",
    "winners['Sex'].value_counts().plot(kind=\"pie\", autopct=\"%.2f\" , shadow = True , colors = mycolors)"
   ]
  },
  {
   "cell_type": "markdown",
   "id": "b1eb0098",
   "metadata": {
    "papermill": {
     "duration": 0.043727,
     "end_time": "2021-12-26T16:17:33.428467",
     "exception": false,
     "start_time": "2021-12-26T16:17:33.384740",
     "status": "completed"
    },
    "tags": []
   },
   "source": [
    "Let's calculate the number of different medals (gold - silver - bronze)"
   ]
  },
  {
   "cell_type": "code",
   "execution_count": null,
   "id": "29ee293c",
   "metadata": {
    "execution": {
     "iopub.execute_input": "2021-12-26T16:17:33.521769Z",
     "iopub.status.busy": "2021-12-26T16:17:33.520784Z",
     "iopub.status.idle": "2021-12-26T16:17:33.525645Z",
     "shell.execute_reply": "2021-12-26T16:17:33.526138Z",
     "shell.execute_reply.started": "2021-12-26T14:53:42.61305Z"
    },
    "papermill": {
     "duration": 0.054125,
     "end_time": "2021-12-26T16:17:33.526316",
     "exception": false,
     "start_time": "2021-12-26T16:17:33.472191",
     "status": "completed"
    },
    "tags": []
   },
   "outputs": [],
   "source": [
    "Medals = winners['Medal'].value_counts()"
   ]
  },
  {
   "cell_type": "markdown",
   "id": "02cde7b6",
   "metadata": {
    "papermill": {
     "duration": 0.043708,
     "end_time": "2021-12-26T16:17:33.614135",
     "exception": false,
     "start_time": "2021-12-26T16:17:33.570427",
     "status": "completed"
    },
    "tags": []
   },
   "source": [
    "With the same idea as before, I used a donut chart to represent the percentage of medals (gold - silver - bronze) awarded in all sports"
   ]
  },
  {
   "cell_type": "code",
   "execution_count": null,
   "id": "6d169881",
   "metadata": {
    "execution": {
     "iopub.execute_input": "2021-12-26T16:17:33.705675Z",
     "iopub.status.busy": "2021-12-26T16:17:33.704984Z",
     "iopub.status.idle": "2021-12-26T16:17:33.829217Z",
     "shell.execute_reply": "2021-12-26T16:17:33.828563Z",
     "shell.execute_reply.started": "2021-12-26T14:53:42.621312Z"
    },
    "papermill": {
     "duration": 0.171271,
     "end_time": "2021-12-26T16:17:33.829372",
     "exception": false,
     "start_time": "2021-12-26T16:17:33.658101",
     "status": "completed"
    },
    "tags": []
   },
   "outputs": [],
   "source": [
    "explode = (0.05, 0.05 , 0.05)\n",
    "plt.pie(Medals , labels = ['Gold' , 'Bronze' , 'Silver'] , autopct=\"%.2f\" , explode = explode, pctdistance=0.85 )\n",
    "centre_circle = plt.Circle((0, 0), 0.70, fc='white')\n",
    "fig = plt.gcf()\n",
    "  \n",
    "# Adding Circle in Pie chart\n",
    "fig.gca().add_artist(centre_circle)\n",
    "  \n",
    "# Adding Title of chart\n",
    "plt.legend(title = 'Medals' , bbox_to_anchor =(0.75, 1.15), ncol = 3 , loc = 'lower left')\n",
    "plt.title('the Percentage of each medal awarded at the Rio Olympics' , loc = 'center')\n",
    "  \n",
    "# Displaing Chart\n",
    "plt.show()"
   ]
  },
  {
   "cell_type": "markdown",
   "id": "6b493879",
   "metadata": {
    "papermill": {
     "duration": 0.044848,
     "end_time": "2021-12-26T16:17:33.919538",
     "exception": false,
     "start_time": "2021-12-26T16:17:33.874690",
     "status": "completed"
    },
    "tags": []
   },
   "source": [
    "I will use this code to calculate how many medals each country has won\n",
    "\n",
    "and From this list I will only take the five countries with the most medals"
   ]
  },
  {
   "cell_type": "code",
   "execution_count": null,
   "id": "51133e71",
   "metadata": {
    "execution": {
     "iopub.execute_input": "2021-12-26T16:17:34.016965Z",
     "iopub.status.busy": "2021-12-26T16:17:34.016289Z",
     "iopub.status.idle": "2021-12-26T16:17:34.022103Z",
     "shell.execute_reply": "2021-12-26T16:17:34.022617Z",
     "shell.execute_reply.started": "2021-12-26T14:53:42.75222Z"
    },
    "papermill": {
     "duration": 0.057986,
     "end_time": "2021-12-26T16:17:34.022776",
     "exception": false,
     "start_time": "2021-12-26T16:17:33.964790",
     "status": "completed"
    },
    "tags": []
   },
   "outputs": [],
   "source": [
    "winners['Team'].value_counts()"
   ]
  },
  {
   "cell_type": "markdown",
   "id": "47d3f20d",
   "metadata": {
    "papermill": {
     "duration": 0.045163,
     "end_time": "2021-12-26T16:17:34.113659",
     "exception": false,
     "start_time": "2021-12-26T16:17:34.068496",
     "status": "completed"
    },
    "tags": []
   },
   "source": [
    "I wanted to know how many gold, silver and bronze medals each of the five countries (which we referred to earlier) had won "
   ]
  },
  {
   "cell_type": "code",
   "execution_count": null,
   "id": "000a2e15",
   "metadata": {
    "execution": {
     "iopub.execute_input": "2021-12-26T16:17:34.211788Z",
     "iopub.status.busy": "2021-12-26T16:17:34.211106Z",
     "iopub.status.idle": "2021-12-26T16:17:34.213946Z",
     "shell.execute_reply": "2021-12-26T16:17:34.213437Z",
     "shell.execute_reply.started": "2021-12-26T14:53:42.763152Z"
    },
    "papermill": {
     "duration": 0.054428,
     "end_time": "2021-12-26T16:17:34.214093",
     "exception": false,
     "start_time": "2021-12-26T16:17:34.159665",
     "status": "completed"
    },
    "tags": []
   },
   "outputs": [],
   "source": [
    "country_winner = winners[winners.Team.isin([\"United States\", \"Germany\" , \"Great Britain\" , \"Russia\" , \"China\"])]"
   ]
  },
  {
   "cell_type": "markdown",
   "id": "315efb0b",
   "metadata": {
    "papermill": {
     "duration": 0.044945,
     "end_time": "2021-12-26T16:17:34.304572",
     "exception": false,
     "start_time": "2021-12-26T16:17:34.259627",
     "status": "completed"
    },
    "tags": []
   },
   "source": [
    "I used this code so that I first filter our data to include these countries and then put them into a group or a special table (to count how many different medals each of the five countries اhad won)"
   ]
  },
  {
   "cell_type": "code",
   "execution_count": null,
   "id": "6289b8c9",
   "metadata": {
    "execution": {
     "iopub.execute_input": "2021-12-26T16:17:34.398501Z",
     "iopub.status.busy": "2021-12-26T16:17:34.397866Z",
     "iopub.status.idle": "2021-12-26T16:17:34.412692Z",
     "shell.execute_reply": "2021-12-26T16:17:34.413279Z",
     "shell.execute_reply.started": "2021-12-26T14:53:42.777253Z"
    },
    "papermill": {
     "duration": 0.063434,
     "end_time": "2021-12-26T16:17:34.413479",
     "exception": false,
     "start_time": "2021-12-26T16:17:34.350045",
     "status": "completed"
    },
    "tags": []
   },
   "outputs": [],
   "source": [
    "five_country = country_winner.groupby(['Team'])['Medal'].value_counts().unstack().fillna(0)\n",
    "five_country"
   ]
  },
  {
   "cell_type": "markdown",
   "id": "23034957",
   "metadata": {
    "papermill": {
     "duration": 0.045758,
     "end_time": "2021-12-26T16:17:34.504978",
     "exception": false,
     "start_time": "2021-12-26T16:17:34.459220",
     "status": "completed"
    },
    "tags": []
   },
   "source": [
    "I used the stacked bar to draw the previous table"
   ]
  },
  {
   "cell_type": "code",
   "execution_count": null,
   "id": "fc480e16",
   "metadata": {
    "execution": {
     "iopub.execute_input": "2021-12-26T16:17:34.601003Z",
     "iopub.status.busy": "2021-12-26T16:17:34.600339Z",
     "iopub.status.idle": "2021-12-26T16:17:34.861988Z",
     "shell.execute_reply": "2021-12-26T16:17:34.862586Z",
     "shell.execute_reply.started": "2021-12-26T14:53:42.803317Z"
    },
    "papermill": {
     "duration": 0.311882,
     "end_time": "2021-12-26T16:17:34.862771",
     "exception": false,
     "start_time": "2021-12-26T16:17:34.550889",
     "status": "completed"
    },
    "tags": []
   },
   "outputs": [],
   "source": [
    "stacked_fig = five_country.plot(kind='bar', stacked=True , color=['#17D7A0' , '#FF5403' , '#8E05C2'])"
   ]
  },
  {
   "cell_type": "markdown",
   "id": "e89e4872",
   "metadata": {
    "papermill": {
     "duration": 0.047396,
     "end_time": "2021-12-26T16:17:34.957205",
     "exception": false,
     "start_time": "2021-12-26T16:17:34.909809",
     "status": "completed"
    },
    "tags": []
   },
   "source": [
    "Let's see the ages of the players of these five countries"
   ]
  },
  {
   "cell_type": "code",
   "execution_count": null,
   "id": "fd095721",
   "metadata": {
    "execution": {
     "iopub.execute_input": "2021-12-26T16:17:35.057256Z",
     "iopub.status.busy": "2021-12-26T16:17:35.056650Z",
     "iopub.status.idle": "2021-12-26T16:17:35.334769Z",
     "shell.execute_reply": "2021-12-26T16:17:35.334236Z",
     "shell.execute_reply.started": "2021-12-26T14:53:43.07162Z"
    },
    "papermill": {
     "duration": 0.329053,
     "end_time": "2021-12-26T16:17:35.334911",
     "exception": false,
     "start_time": "2021-12-26T16:17:35.005858",
     "status": "completed"
    },
    "tags": []
   },
   "outputs": [],
   "source": [
    "sns.distplot(country_winner.Age, kde=False)"
   ]
  },
  {
   "cell_type": "markdown",
   "id": "0ce32f78",
   "metadata": {
    "papermill": {
     "duration": 0.049543,
     "end_time": "2021-12-26T16:17:35.433076",
     "exception": false,
     "start_time": "2021-12-26T16:17:35.383533",
     "status": "completed"
    },
    "tags": []
   },
   "source": [
    "I am now going to filter our data table to contain only the five most medal winning countries and then calculate the number of medals awarded in each game from this table"
   ]
  },
  {
   "cell_type": "code",
   "execution_count": null,
   "id": "c4607236",
   "metadata": {
    "execution": {
     "iopub.execute_input": "2021-12-26T16:17:35.532323Z",
     "iopub.status.busy": "2021-12-26T16:17:35.531706Z",
     "iopub.status.idle": "2021-12-26T16:17:35.539020Z",
     "shell.execute_reply": "2021-12-26T16:17:35.539507Z",
     "shell.execute_reply.started": "2021-12-26T14:53:43.337183Z"
    },
    "papermill": {
     "duration": 0.05847,
     "end_time": "2021-12-26T16:17:35.539686",
     "exception": false,
     "start_time": "2021-12-26T16:17:35.481216",
     "status": "completed"
    },
    "tags": []
   },
   "outputs": [],
   "source": [
    "sports = country_winner['Sport'].value_counts()\n",
    "sports"
   ]
  },
  {
   "cell_type": "markdown",
   "id": "6b34c05d",
   "metadata": {
    "papermill": {
     "duration": 0.048049,
     "end_time": "2021-12-26T16:17:35.635971",
     "exception": false,
     "start_time": "2021-12-26T16:17:35.587922",
     "status": "completed"
    },
    "tags": []
   },
   "source": [
    "I'll filter our data table again by the five sports with the most medals\n",
    "\n",
    "And we are using the Seaborn to plot it"
   ]
  },
  {
   "cell_type": "code",
   "execution_count": null,
   "id": "e03d7509",
   "metadata": {
    "execution": {
     "iopub.execute_input": "2021-12-26T16:17:35.736094Z",
     "iopub.status.busy": "2021-12-26T16:17:35.735386Z",
     "iopub.status.idle": "2021-12-26T16:17:36.011083Z",
     "shell.execute_reply": "2021-12-26T16:17:36.011548Z",
     "shell.execute_reply.started": "2021-12-26T14:53:43.347062Z"
    },
    "papermill": {
     "duration": 0.327538,
     "end_time": "2021-12-26T16:17:36.011746",
     "exception": false,
     "start_time": "2021-12-26T16:17:35.684208",
     "status": "completed"
    },
    "tags": []
   },
   "outputs": [],
   "source": [
    "sport = ['Swimming' , 'Athletics' , 'Rowing' , 'Gymnastics' , 'Hockey']\n",
    "sports_medals = country_winner[country_winner['Sport'].isin(sport)]\n",
    "sns.catplot(\"Sport\", data=sports_medals, aspect=1.5, kind=\"count\", color=\"b\")"
   ]
  },
  {
   "cell_type": "markdown",
   "id": "869905ad",
   "metadata": {
    "papermill": {
     "duration": 0.049436,
     "end_time": "2021-12-26T16:17:36.110830",
     "exception": false,
     "start_time": "2021-12-26T16:17:36.061394",
     "status": "completed"
    },
    "tags": []
   },
   "source": [
    "I want to make a comparison between the five countries (most winning medals) in the previous five sports to see who excelled in these sports"
   ]
  },
  {
   "cell_type": "code",
   "execution_count": null,
   "id": "7a968bab",
   "metadata": {
    "execution": {
     "iopub.execute_input": "2021-12-26T16:17:36.217577Z",
     "iopub.status.busy": "2021-12-26T16:17:36.215172Z",
     "iopub.status.idle": "2021-12-26T16:17:37.360873Z",
     "shell.execute_reply": "2021-12-26T16:17:37.361372Z",
     "shell.execute_reply.started": "2021-12-26T14:53:43.625251Z"
    },
    "papermill": {
     "duration": 1.201184,
     "end_time": "2021-12-26T16:17:37.361540",
     "exception": false,
     "start_time": "2021-12-26T16:17:36.160356",
     "status": "completed"
    },
    "tags": []
   },
   "outputs": [],
   "source": [
    "g = sns.FacetGrid(sports_medals, col=\"Sport\", height=4,aspect=.5,hue='NOC',palette='magma_r')\n",
    "g.map(sns.countplot, \"NOC\", order = sports_medals['NOC'].value_counts().index)"
   ]
  },
  {
   "cell_type": "markdown",
   "id": "41bb6956",
   "metadata": {
    "papermill": {
     "duration": 0.050709,
     "end_time": "2021-12-26T16:17:37.462897",
     "exception": false,
     "start_time": "2021-12-26T16:17:37.412188",
     "status": "completed"
    },
    "tags": []
   },
   "source": [
    "I will repeat the previous graph, but this time the comparison will be between Male and Female"
   ]
  },
  {
   "cell_type": "code",
   "execution_count": null,
   "id": "b650e8a4",
   "metadata": {
    "execution": {
     "iopub.execute_input": "2021-12-26T16:17:37.570604Z",
     "iopub.status.busy": "2021-12-26T16:17:37.569866Z",
     "iopub.status.idle": "2021-12-26T16:17:38.506630Z",
     "shell.execute_reply": "2021-12-26T16:17:38.506076Z",
     "shell.execute_reply.started": "2021-12-26T14:53:44.781398Z"
    },
    "papermill": {
     "duration": 0.993581,
     "end_time": "2021-12-26T16:17:38.506811",
     "exception": false,
     "start_time": "2021-12-26T16:17:37.513230",
     "status": "completed"
    },
    "tags": []
   },
   "outputs": [],
   "source": [
    "s = sns.FacetGrid(sports_medals, col=\"Sport\", height=4,aspect=.5,hue='Sex',palette='magma_r')\n",
    "s.map(sns.countplot, \"Sex\", order = sports_medals['Sex'].value_counts().index)"
   ]
  },
  {
   "cell_type": "markdown",
   "id": "dbbdd1b7",
   "metadata": {
    "papermill": {
     "duration": 0.052235,
     "end_time": "2021-12-26T16:17:38.611443",
     "exception": false,
     "start_time": "2021-12-26T16:17:38.559208",
     "status": "completed"
    },
    "tags": []
   },
   "source": [
    "In the end\n",
    "I just liked that I am drawing a map of the world showing the countries that got the Olympic medals (golden - silver - bronze) You can drag and you can move between the medals through the bar at the bottom of the map"
   ]
  },
  {
   "cell_type": "code",
   "execution_count": null,
   "id": "a07345c0",
   "metadata": {
    "execution": {
     "iopub.execute_input": "2021-12-26T16:17:38.721007Z",
     "iopub.status.busy": "2021-12-26T16:17:38.720296Z",
     "iopub.status.idle": "2021-12-26T16:17:39.907795Z",
     "shell.execute_reply": "2021-12-26T16:17:39.908362Z",
     "shell.execute_reply.started": "2021-12-26T15:13:49.735508Z"
    },
    "papermill": {
     "duration": 1.245326,
     "end_time": "2021-12-26T16:17:39.908537",
     "exception": false,
     "start_time": "2021-12-26T16:17:38.663211",
     "status": "completed"
    },
    "tags": []
   },
   "outputs": [],
   "source": [
    "fig = px.choropleth(winners,\n",
    "                    locations=\"NOC\",\n",
    "                    color='Medal',\n",
    "                    hover_name=\"Team\",\n",
    "                    animation_frame = \"Medal\",\n",
    "                    color_continuous_scale=px.colors.sequential.Plasma)\n",
    "fig.show()"
   ]
  },
  {
   "cell_type": "code",
   "execution_count": null,
   "id": "3c26d958",
   "metadata": {
    "papermill": {
     "duration": 0.05538,
     "end_time": "2021-12-26T16:17:40.019326",
     "exception": false,
     "start_time": "2021-12-26T16:17:39.963946",
     "status": "completed"
    },
    "tags": []
   },
   "outputs": [],
   "source": []
  }
 ],
 "metadata": {
  "kernelspec": {
   "display_name": "Python 3 (ipykernel)",
   "language": "python",
   "name": "python3"
  },
  "language_info": {
   "codemirror_mode": {
    "name": "ipython",
    "version": 3
   },
   "file_extension": ".py",
   "mimetype": "text/x-python",
   "name": "python",
   "nbconvert_exporter": "python",
   "pygments_lexer": "ipython3",
   "version": "3.9.6"
  },
  "papermill": {
   "default_parameters": {},
   "duration": 25.653052,
   "end_time": "2021-12-26T16:17:40.984809",
   "environment_variables": {},
   "exception": null,
   "input_path": "__notebook__.ipynb",
   "output_path": "__notebook__.ipynb",
   "parameters": {},
   "start_time": "2021-12-26T16:17:15.331757",
   "version": "2.3.3"
  }
 },
 "nbformat": 4,
 "nbformat_minor": 5
}
